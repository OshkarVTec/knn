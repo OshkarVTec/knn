{
 "cells": [
  {
   "cell_type": "markdown",
   "metadata": {},
   "source": [
    "# Implementación de K-nearest-neighbors\n",
    "Oskar Adolfo Villa\n",
    "Cruz Daniel Pérez\n",
    "Rogelio Hernández"
   ]
  }
 ],
 "metadata": {
  "language_info": {
   "name": "python"
  }
 },
 "nbformat": 4,
 "nbformat_minor": 2
}
