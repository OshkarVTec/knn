{
 "cells": [
  {
   "cell_type": "markdown",
   "metadata": {},
   "source": [
    "# Implementación de K-nearest-neighbors\n",
    "\n",
    "* Oskar Adolfo Villa\n",
    "* Cruz Daniel Pérez\n",
    "* Rogelio Hernández"
   ]
  },
  {
   "cell_type": "markdown",
   "metadata": {},
   "source": [
    "## Imports"
   ]
  },
  {
   "cell_type": "code",
   "execution_count": null,
   "metadata": {},
   "outputs": [],
   "source": [
    "import math"
   ]
  },
  {
   "cell_type": "markdown",
   "metadata": {},
   "source": [
    "## Implementación"
   ]
  },
  {
   "cell_type": "markdown",
   "metadata": {},
   "source": [
    "La siguiente clase contiene todo el código necesario para ejecutar un algoritmo de KNN con distancia euclidiana."
   ]
  },
  {
   "cell_type": "code",
   "execution_count": null,
   "metadata": {},
   "outputs": [],
   "source": [
    "class KNearestNeighbors:\n",
    "    def __init__(self, k=3):\n",
    "        self.k = k\n",
    "        self.data = []\n",
    "\n",
    "    def fit(self, X, y):\n",
    "        \"\"\"Store the training data.\"\"\"\n",
    "        self.data = [(x, label) for x, label in zip(X, y)]\n",
    "\n",
    "    def predict(self, X):\n",
    "        \"\"\"Predict the class for each sample in X.\"\"\"\n",
    "        predictions = []\n",
    "        for x in X:\n",
    "            neighbors = self._get_neighbors(x)\n",
    "            predictions.append(self._vote(neighbors))\n",
    "        return predictions\n",
    "\n",
    "    def _get_neighbors(self, x):\n",
    "        \"\"\"Find the k nearest neighbors to x.\"\"\"\n",
    "        distances = []\n",
    "        for data_point, label in self.data:\n",
    "            distance = self._euclidean_distance(x, data_point)\n",
    "            distances.append((distance, label))\n",
    "        distances.sort(key=lambda d: d[0])\n",
    "        return distances[: self.k]\n",
    "\n",
    "    def _vote(self, neighbors):\n",
    "        \"\"\"Determine the most common class among neighbors.\"\"\"\n",
    "        votes = {}\n",
    "        for _, label in neighbors:\n",
    "            votes[label] = votes.get(label, 0) + 1\n",
    "        return max(votes, key=votes.get)\n",
    "\n",
    "    @staticmethod\n",
    "    def _euclidean_distance(x1, x2):\n",
    "        \"\"\"Calculate the Euclidean distance between two points.\"\"\"\n",
    "        return math.sqrt(sum((a - b) ** 2 for a, b in zip(x1, x2)))\n"
   ]
  },
  {
   "cell_type": "markdown",
   "metadata": {},
   "source": [
    "## Ejecución"
   ]
  },
  {
   "cell_type": "markdown",
   "metadata": {},
   "source": [
    "### Ejecución con datos originales"
   ]
  },
  {
   "cell_type": "code",
   "execution_count": null,
   "metadata": {},
   "outputs": [],
   "source": [
    "# Ejecutar con 3 valores diferentes de k"
   ]
  },
  {
   "cell_type": "markdown",
   "metadata": {},
   "source": [
    "### Ejecución con datos normalizados"
   ]
  },
  {
   "cell_type": "code",
   "execution_count": null,
   "metadata": {},
   "outputs": [],
   "source": [
    "# Ejecutar con 3 valores diferentes de k"
   ]
  },
  {
   "cell_type": "markdown",
   "metadata": {},
   "source": [
    "## Conclusiones"
   ]
  },
  {
   "cell_type": "markdown",
   "metadata": {},
   "source": [
    "\n",
    "\n",
    "    ¿Cómo varía el resultado con diferentes valores de k?\n",
    "    ¿Tiene inferencia en el resultado el que los datos estén normalizados?\n",
    "    ¿Cuáles fueron los resultados mínimos y máximos obtenidos en los experimentos?\n"
   ]
  }
 ],
 "metadata": {
  "kernelspec": {
   "display_name": "Python 3",
   "language": "python",
   "name": "python3"
  },
  "language_info": {
   "name": "python",
   "version": "3.10.12"
  }
 },
 "nbformat": 4,
 "nbformat_minor": 2
}
